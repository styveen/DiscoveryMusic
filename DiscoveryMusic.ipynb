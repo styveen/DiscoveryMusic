{
  "nbformat": 4,
  "nbformat_minor": 0,
  "metadata": {
    "colab": {
      "provenance": [],
      "authorship_tag": "ABX9TyOTSn7ZgK0qrkUbojCMOIOO",
      "include_colab_link": true
    },
    "kernelspec": {
      "name": "python3",
      "display_name": "Python 3"
    },
    "language_info": {
      "name": "python"
    }
  },
  "cells": [
    {
      "cell_type": "markdown",
      "metadata": {
        "id": "view-in-github",
        "colab_type": "text"
      },
      "source": [
        "<a href=\"https://colab.research.google.com/github/styveen/DiscoveryMusic/blob/main/DiscoveryMusic.ipynb\" target=\"_parent\"><img src=\"https://colab.research.google.com/assets/colab-badge.svg\" alt=\"Open In Colab\"/></a>"
      ]
    },
    {
      "cell_type": "markdown",
      "source": [
        "Importar as bibliotecas e informar a API_KEY"
      ],
      "metadata": {
        "id": "HC2zLXT7lDPJ"
      }
    },
    {
      "cell_type": "code",
      "execution_count": 2,
      "metadata": {
        "id": "-mCbfeF1Qdae"
      },
      "outputs": [],
      "source": [
        "#chamadas especifica\n",
        "import google.generativeai as genai_music\n",
        "#chamadas auxiliares para não atrapalhar o primeiro modelo\n",
        "import google.generativeai as genai_aux\n",
        "\n",
        "# buscas a api_key configurada no colab\n",
        "from google.colab import userdata\n",
        "api_key_studio = userdata.get('secret_key')\n",
        "\n",
        "# configura as bibliotecas com a API_KEY\n",
        "genai_music.configure(api_key=api_key_studio)\n",
        "genai_aux.configure(api_key=api_key_studio)\n"
      ]
    },
    {
      "cell_type": "markdown",
      "source": [
        "Cria as configuções dos modelos e segurança:"
      ],
      "metadata": {
        "id": "aDMSP3TalXbc"
      }
    },
    {
      "cell_type": "code",
      "source": [
        "#config princpal\n",
        "generation_config_music = {\n",
        "    \"candidate_count\": 1,\n",
        "    \"temperature\":0\n",
        "}\n",
        "\n",
        "#config auxiliar para geração de conteúdo\n",
        "generation_config_aux = {\n",
        "    \"candidate_count\": 1,\n",
        "    \"temperature\":0\n",
        "}\n",
        "\n",
        "safety_settings = {\n",
        "    \"HARASSMENT\": \"BLOCK_NONE\",\n",
        "    \"HATE\": \"BLOCK_NONE\",\n",
        "    \"SEXUAL\": \"BLOCK_NONE\",\n",
        "    \"DANGEROUS\": \"BLOCK_NONE\"\n",
        "}"
      ],
      "metadata": {
        "id": "JxrjiFATTLUp"
      },
      "execution_count": 3,
      "outputs": []
    },
    {
      "cell_type": "markdown",
      "source": [
        "Configuração dos modelos:"
      ],
      "metadata": {
        "id": "zdH6Ds0_lomf"
      }
    },
    {
      "cell_type": "code",
      "source": [
        "model = genai_music.GenerativeModel(model_name=\"gemini-1.0-pro\"\n",
        "                              ,generation_config=generation_config_music\n",
        "                              ,safety_settings=safety_settings)\n",
        "\n",
        "model_aux = genai_aux.GenerativeModel(model_name=\"gemini-1.0-pro\"\n",
        "                              ,generation_config=generation_config_aux\n",
        "                              ,safety_settings=safety_settings)"
      ],
      "metadata": {
        "id": "zlkwjCM2TSoJ"
      },
      "execution_count": 16,
      "outputs": []
    },
    {
      "cell_type": "markdown",
      "source": [
        "Discovery Music:\n",
        "Irá solicitar o nome de uma banda ou artista, e a partir disso dará algumas informações sobre eles.\n",
        "Também informará quais as músicas mais tocas no ano de lançamento do seu primeiro albúm e também as mais tocas da década do mesmo estilo do artista.\n",
        "Para aumentar o seu conhecimento sobre música, aprensentará 5 artistas baseado no mesmo estilo musical.\n",
        "Por fim, permitirá fazer novas perguntas já mantendo o contexto do artista."
      ],
      "metadata": {
        "id": "_85meKrXltFO"
      }
    },
    {
      "cell_type": "code",
      "source": [
        "# inicia o Chat\n",
        "chat = model.start_chat(history=[])\n",
        "\n",
        "# atribui o nome do artista ou banda\n",
        "banda = input(\"Digite o nome de uma banda ou artista: \")\n",
        "\n",
        "# informa o modelo para contextualiza-lo\n",
        "prompt = \"Vou pedir informações da banda ou artista \" + banda + \" \"\n",
        "response = chat.send_message(prompt)\n",
        "#print(\"Resposta: \", response.text, \"\\n\\n\")\n",
        "\n",
        "# solicitamos e armazemos o ano do primeiro album lançado\n",
        "response = chat.send_message(\"Qual o ano do primeiro album? Responda apenas o ano\")\n",
        "ano = response.text\n",
        "#print(ano)\n",
        "\n",
        "# solicitamos e armazemos o genero musical\n",
        "response = chat.send_message(\"Qual o genero musical? Caso tenha mais que um responda apenas o principal\")\n",
        "genero = response.text\n",
        "#print(genero)\n",
        "\n",
        "# solicitamos e armazemos o pais origem\n",
        "response = chat.send_message(\"Qual o país de origem? Responda apenas o país\")\n",
        "pais = response.text\n",
        "#print(pais)\n",
        "\n",
        "# solicitamos uma breve descricao sobre o artista\n",
        "response = chat.send_message(\"Diga me uma breve história da trajetória de no máximo 500 palavras, mas não mencione o seus integrantes\")\n",
        "print(response.text + \"\\n\\n\")\n",
        "\n",
        "# solicitamos a composição de membros\n",
        "response = chat.send_message(\"Quais são os integrantes?\")\n",
        "print(response.text + \"\\n\\n\")\n",
        "\n",
        "# solicitamos as cinco músicas mais ouvidas\n",
        "response = chat.send_message(\"Quais as cinco músicas mais ouvidas?\")\n",
        "print(response.text + \"\\n\\n\")\n",
        "\n",
        "# solicitamos a informação de quais eram as músicas mais tocadas no ano de lançamento do primeiro album, e as mais tocadas do mesmo estilo\n",
        "# também solicitamos para descrever porque o modelo é fã desse artista\n",
        "prompt = \"Quero que escreva um texto como se fosse fã da banda/artista \" + banda + \" e informe quais foram as 10 músicas mais tocadas no ano de \" + ano + \" no país \" + pais\n",
        "prompt += \". Depois, me diga quais foram as 10 músicas mais tocas do estilo \" + genero + \" da década desse mesmo ano e país. \"\n",
        "prompt += \"Caso a banda/artista \" + banda + \" estiver em alguma das duas listas informe em qual delas ela está. \"\n",
        "prompt += \"Por fim, diga porque voce é fã da banda/artista. \"\n",
        "\n",
        "response = model_aux.generate_content(prompt)\n",
        "print(response.text + \"\\n\\n\")\n",
        "\n",
        "# solicitamos cinco artistas similares\n",
        "response = chat.send_message(\"Cite cinco artistas similares\")\n",
        "print(response.text + \"\\n\\n\")\n",
        "\n",
        "# liberamos o chat para caso o usuário queira continuar com as perguntas\n",
        "prompt = input(\"Voce tem mais alguma dúvida? Digite sua pergunta ou a palavre *pare* para finalizar: \")\n",
        "\n",
        "while prompt != 'pare':\n",
        "  response = chat.send_message(prompt)\n",
        "  print(\"Resposta: \", response.text, \"\\n\\n\")\n",
        "  prompt = input(\"Voce tem mais alguma dúvida? Digite sua pergunta ou a palavra *pare* para finalizar:  \")"
      ],
      "metadata": {
        "colab": {
          "base_uri": "https://localhost:8080/",
          "height": 1000
        },
        "id": "-ZKocrnrTywR",
        "outputId": "a1f0c8b2-6bdd-439d-87b7-9f1f8d6e565b"
      },
      "execution_count": 33,
      "outputs": [
        {
          "name": "stdout",
          "output_type": "stream",
          "text": [
            "Digite o nome de uma banda ou artista: Metallica\n",
            "O Metallica foi formado em Los Angeles, Califórnia, em 1981. A banda rapidamente ganhou seguidores na cena underground do heavy metal com suas músicas rápidas e agressivas. Seu álbum de estreia, \"Kill 'Em All\", foi lançado em 1983 e foi um sucesso instantâneo entre os fãs de metal.\n",
            "\n",
            "O segundo álbum do Metallica, \"Ride the Lightning\", foi lançado em 1984 e consolidou o status da banda como uma das principais forças do heavy metal. O álbum apresentava músicas mais complexas e introspectivas, e ajudou a expandir a base de fãs da banda.\n",
            "\n",
            "Em 1986, o Metallica lançou seu álbum inovador, \"Master of Puppets\". O álbum é considerado um dos maiores álbuns de heavy metal de todos os tempos, e ajudou a estabelecer a banda como uma das mais importantes e influentes do gênero.\n",
            "\n",
            "O quarto álbum do Metallica, \"...And Justice for All\", foi lançado em 1988 e continuou a explorar temas sombrios e introspectivos. O álbum foi um sucesso comercial, mas foi criticado por seu som mais polido e produzido.\n",
            "\n",
            "No início dos anos 1990, o Metallica alcançou o sucesso mainstream com seu álbum autointitulado, também conhecido como \"The Black Album\". O álbum apresentava um som mais acessível e comercial, e ajudou a banda a atingir um público mais amplo.\n",
            "\n",
            "Desde então, o Metallica continuou a lançar álbuns e fazer turnês, mantendo seu status como uma das bandas de heavy metal mais populares e influentes do mundo.\n",
            "\n",
            "Apesar das mudanças em seu som e estilo ao longo dos anos, o Metallica permaneceu fiel às suas raízes do heavy metal. A banda é conhecida por suas músicas poderosas e letras sombrias, bem como por seus shows ao vivo intensos.\n",
            "\n",
            "\n",
            "* James Hetfield (vocal, guitarra rítmica)\n",
            "* Lars Ulrich (bateria)\n",
            "* Kirk Hammett (guitarra solo)\n",
            "* Robert Trujillo (baixo)\n",
            "\n",
            "\n",
            "As cinco músicas mais ouvidas do Metallica no Spotify são:\n",
            "\n",
            "1. Enter Sandman\n",
            "2. Nothing Else Matters\n",
            "3. Master of Puppets\n",
            "4. The Unforgiven\n",
            "5. One\n",
            "\n",
            "\n",
            "**10 Músicas Mais Tocadas nos EUA em 1983**\n",
            "\n",
            "1. \"Billie Jean\" - Michael Jackson\n",
            "2. \"Beat It\" - Michael Jackson\n",
            "3. \"Every Breath You Take\" - The Police\n",
            "4. \"Sweet Dreams (Are Made of This)\" - Eurythmics\n",
            "5. \"Jump\" - Van Halen\n",
            "6. \"Flashdance... What a Feeling\" - Irene Cara\n",
            "7. \"Africa\" - Toto\n",
            "8. \"Total Eclipse of the Heart\" - Bonnie Tyler\n",
            "9. \"Maniac\" - Michael Sembello\n",
            "10. \"Careless Whisper\" - Wham!\n",
            "\n",
            "**10 Músicas Mais Tocadas de Heavy Metal nos EUA na Década de 1980**\n",
            "\n",
            "1. \"Breaking the Law\" - Judas Priest\n",
            "2. \"Ace of Spades\" - Motörhead\n",
            "3. \"Iron Maiden\" - Iron Maiden\n",
            "4. \"Run to the Hills\" - Iron Maiden\n",
            "5. \"Holy Diver\" - Dio\n",
            "6. \"Rainbow in the Dark\" - Dio\n",
            "7. \"The Number of the Beast\" - Iron Maiden\n",
            "8. \"Crazy Train\" - Ozzy Osbourne\n",
            "9. \"Bark at the Moon\" - Ozzy Osbourne\n",
            "10. \"Over the Mountain\" - Ozzy Osbourne\n",
            "\n",
            "**Metallica não está incluída em nenhuma das duas listas.**\n",
            "\n",
            "**Por que sou fã do Metallica:**\n",
            "\n",
            "Sou fã do Metallica porque:\n",
            "\n",
            "* Sua música é incrivelmente poderosa e cativante.\n",
            "* Suas letras são profundas e significativas.\n",
            "* Eles são mestres em criar melodias e riffs memoráveis.\n",
            "* Eles sempre se mantiveram fiéis a si mesmos e à sua música.\n",
            "* Sua energia ao vivo é incomparável.\n",
            "\n",
            "\n",
            "Cinco artistas similares ao Metallica:\n",
            "\n",
            "* Slayer\n",
            "* Megadeth\n",
            "* Anthrax\n",
            "* Testament\n",
            "* Exodus\n",
            "\n",
            "\n",
            "Voce tem mais alguma dúvida? Digite sua pergunta ou a palavre *pare* para finalizar: pare\n"
          ]
        }
      ]
    }
  ]
}